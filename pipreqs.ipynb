{
 "cells": [
  {
   "cell_type": "code",
   "execution_count": 15,
   "metadata": {},
   "outputs": [],
   "source": [
    "\"\"\"\n",
    "Generate requirements.txt file using pipreqs. Ignoring all files that are in .gitignore.\n",
    "This is better than pip freeze because it allows packages to handle their own dependencies.\n",
    "\"\"\"\n",
    "import os\n",
    "import pkg_resources\n",
    "\n",
    "\n",
    "def get_ignored_files():\n",
    "    ignored_files = set()\n",
    "    with open(\".gitignore\", \"r\") as file:\n",
    "        for line in file:\n",
    "            line = line.strip()\n",
    "            if line and not line.startswith(\"#\"):\n",
    "                ignored_files.add(line)\n",
    "    return ignored_files\n",
    "\n",
    "\n",
    "ignored_files = get_ignored_files()\n",
    "ignore_arguments = \"--ignore=\" + \",\".join(ignored_files)\n",
    "\n",
    "os.system(f\"pipreqs --force {ignore_arguments}\")\n",
    "\n",
    "# Add additional requirements\n",
    "with open(\"requirements.txt\", \"a\") as file:\n",
    "    file.write(f\"pipreqs=={pkg_resources.get_distribution('pipreqs').version}\\n\")\n",
    "    file.write(f\"ipykernel=={pkg_resources.get_distribution('ipykernel').version}\\n\")\n",
    "\n",
    "# Remove earlier versions of duplicate packages\n",
    "package_versions = {}\n",
    "\n",
    "with open(\"requirements.txt\", \"r\") as file:\n",
    "    for line in file:\n",
    "        package_name, package_version = line.replace(\"\\n\", \"\").split(\"==\")\n",
    "        if (\n",
    "            package_name not in package_versions\n",
    "            or package_versions[package_name] < package_version\n",
    "        ):\n",
    "            package_versions[package_name] = package_version\n",
    "\n",
    "updated_lines = [f\"{key}=={value}\\n\" for key, value in package_versions.items()]\n",
    "\n",
    "with open(\"requirements.txt\", \"w\") as file:\n",
    "    file.writelines(updated_lines)"
   ]
  },
  {
   "cell_type": "code",
   "execution_count": 16,
   "metadata": {},
   "outputs": [
    {
     "data": {
      "text/plain": [
       "{'GitPython': '3.1.31',\n",
       " 'matplotlib': '3.7.1',\n",
       " 'pandas': '2.0.3',\n",
       " 'Pillow': '9.5.0',\n",
       " 'pipreqs': '0.4.13',\n",
       " 'ipykernel': '6.23.3'}"
      ]
     },
     "execution_count": 16,
     "metadata": {},
     "output_type": "execute_result"
    }
   ],
   "source": [
    "package_versions"
   ]
  },
  {
   "cell_type": "code",
   "execution_count": null,
   "metadata": {},
   "outputs": [],
   "source": []
  }
 ],
 "metadata": {
  "kernelspec": {
   "display_name": ".venv",
   "language": "python",
   "name": "python3"
  },
  "language_info": {
   "codemirror_mode": {
    "name": "ipython",
    "version": 3
   },
   "file_extension": ".py",
   "mimetype": "text/x-python",
   "name": "python",
   "nbconvert_exporter": "python",
   "pygments_lexer": "ipython3",
   "version": "3.11.3"
  }
 },
 "nbformat": 4,
 "nbformat_minor": 2
}
